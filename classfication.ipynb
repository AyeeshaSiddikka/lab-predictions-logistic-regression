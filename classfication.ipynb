{
 "cells": [
  {
   "cell_type": "code",
   "execution_count": 48,
   "metadata": {
    "id": "r97zMfY1myrW"
   },
   "outputs": [
    {
     "name": "stdout",
     "output_type": "stream",
     "text": [
      "········\n"
     ]
    }
   ],
   "source": [
    "# prep: import modules and get pwd\n",
    "import pymysql\n",
    "from sqlalchemy import create_engine\n",
    "import pandas as pd\n",
    "import numpy as np\n",
    "import matplotlib.pyplot as plt\n",
    "import seaborn as sns \n",
    "%matplotlib inline\n",
    "\n",
    "from sklearn.preprocessing import OneHotEncoder\n",
    "from sklearn.preprocessing import LabelEncoder\n",
    "from sklearn.preprocessing import MinMaxScaler \n",
    "from sklearn.preprocessing import StandardScaler\n",
    "from sklearn import linear_model\n",
    "from sklearn.linear_model import LinearRegression\n",
    "from sklearn.metrics import mean_absolute_error, r2_score, mean_squared_error\n",
    "from sklearn.model_selection import train_test_split\n",
    "\n",
    "pd.set_option('display.max_columns', None) #always show all the columns. Normally pandas have a max limit.\n",
    "import getpass  # To get the password without showing the input\n",
    "password = getpass.getpass()"
   ]
  },
  {
   "cell_type": "code",
   "execution_count": 49,
   "metadata": {
    "id": "zvASXwGtmyrd"
   },
   "outputs": [
    {
     "data": {
      "text/html": [
       "<div>\n",
       "<style scoped>\n",
       "    .dataframe tbody tr th:only-of-type {\n",
       "        vertical-align: middle;\n",
       "    }\n",
       "\n",
       "    .dataframe tbody tr th {\n",
       "        vertical-align: top;\n",
       "    }\n",
       "\n",
       "    .dataframe thead th {\n",
       "        text-align: right;\n",
       "    }\n",
       "</style>\n",
       "<table border=\"1\" class=\"dataframe\">\n",
       "  <thead>\n",
       "    <tr style=\"text-align: right;\">\n",
       "      <th></th>\n",
       "      <th>rental_date</th>\n",
       "      <th>amount</th>\n",
       "      <th>rental_duration</th>\n",
       "      <th>rental_rate</th>\n",
       "      <th>length</th>\n",
       "      <th>rating</th>\n",
       "      <th>category</th>\n",
       "    </tr>\n",
       "  </thead>\n",
       "  <tbody>\n",
       "    <tr>\n",
       "      <th>0</th>\n",
       "      <td>2005-05-24 22:53:30</td>\n",
       "      <td>2.99</td>\n",
       "      <td>7</td>\n",
       "      <td>2.99</td>\n",
       "      <td>148</td>\n",
       "      <td>G</td>\n",
       "      <td>Family</td>\n",
       "    </tr>\n",
       "    <tr>\n",
       "      <th>1</th>\n",
       "      <td>2005-05-24 22:54:33</td>\n",
       "      <td>2.99</td>\n",
       "      <td>7</td>\n",
       "      <td>2.99</td>\n",
       "      <td>126</td>\n",
       "      <td>R</td>\n",
       "      <td>Music</td>\n",
       "    </tr>\n",
       "    <tr>\n",
       "      <th>2</th>\n",
       "      <td>2005-05-24 23:03:39</td>\n",
       "      <td>3.99</td>\n",
       "      <td>7</td>\n",
       "      <td>2.99</td>\n",
       "      <td>156</td>\n",
       "      <td>G</td>\n",
       "      <td>Children</td>\n",
       "    </tr>\n",
       "    <tr>\n",
       "      <th>3</th>\n",
       "      <td>2005-05-24 23:04:41</td>\n",
       "      <td>4.99</td>\n",
       "      <td>6</td>\n",
       "      <td>0.99</td>\n",
       "      <td>181</td>\n",
       "      <td>R</td>\n",
       "      <td>Horror</td>\n",
       "    </tr>\n",
       "    <tr>\n",
       "      <th>4</th>\n",
       "      <td>2005-05-24 23:05:21</td>\n",
       "      <td>6.99</td>\n",
       "      <td>5</td>\n",
       "      <td>2.99</td>\n",
       "      <td>84</td>\n",
       "      <td>NC-17</td>\n",
       "      <td>Children</td>\n",
       "    </tr>\n",
       "    <tr>\n",
       "      <th>5</th>\n",
       "      <td>2005-05-24 23:08:07</td>\n",
       "      <td>0.99</td>\n",
       "      <td>5</td>\n",
       "      <td>0.99</td>\n",
       "      <td>92</td>\n",
       "      <td>NC-17</td>\n",
       "      <td>Comedy</td>\n",
       "    </tr>\n",
       "    <tr>\n",
       "      <th>6</th>\n",
       "      <td>2005-05-24 23:11:53</td>\n",
       "      <td>1.99</td>\n",
       "      <td>4</td>\n",
       "      <td>0.99</td>\n",
       "      <td>123</td>\n",
       "      <td>PG-13</td>\n",
       "      <td>Horror</td>\n",
       "    </tr>\n",
       "    <tr>\n",
       "      <th>7</th>\n",
       "      <td>2005-05-24 23:31:46</td>\n",
       "      <td>4.99</td>\n",
       "      <td>6</td>\n",
       "      <td>4.99</td>\n",
       "      <td>181</td>\n",
       "      <td>G</td>\n",
       "      <td>Animation</td>\n",
       "    </tr>\n",
       "    <tr>\n",
       "      <th>8</th>\n",
       "      <td>2005-05-25 00:00:40</td>\n",
       "      <td>4.99</td>\n",
       "      <td>6</td>\n",
       "      <td>4.99</td>\n",
       "      <td>56</td>\n",
       "      <td>PG-13</td>\n",
       "      <td>Foreign</td>\n",
       "    </tr>\n",
       "    <tr>\n",
       "      <th>9</th>\n",
       "      <td>2005-05-25 00:02:21</td>\n",
       "      <td>5.99</td>\n",
       "      <td>5</td>\n",
       "      <td>4.99</td>\n",
       "      <td>62</td>\n",
       "      <td>G</td>\n",
       "      <td>Drama</td>\n",
       "    </tr>\n",
       "  </tbody>\n",
       "</table>\n",
       "</div>"
      ],
      "text/plain": [
       "          rental_date  amount  rental_duration  rental_rate  length rating  \\\n",
       "0 2005-05-24 22:53:30    2.99                7         2.99     148      G   \n",
       "1 2005-05-24 22:54:33    2.99                7         2.99     126      R   \n",
       "2 2005-05-24 23:03:39    3.99                7         2.99     156      G   \n",
       "3 2005-05-24 23:04:41    4.99                6         0.99     181      R   \n",
       "4 2005-05-24 23:05:21    6.99                5         2.99      84  NC-17   \n",
       "5 2005-05-24 23:08:07    0.99                5         0.99      92  NC-17   \n",
       "6 2005-05-24 23:11:53    1.99                4         0.99     123  PG-13   \n",
       "7 2005-05-24 23:31:46    4.99                6         4.99     181      G   \n",
       "8 2005-05-25 00:00:40    4.99                6         4.99      56  PG-13   \n",
       "9 2005-05-25 00:02:21    5.99                5         4.99      62      G   \n",
       "\n",
       "    category  \n",
       "0     Family  \n",
       "1      Music  \n",
       "2   Children  \n",
       "3     Horror  \n",
       "4   Children  \n",
       "5     Comedy  \n",
       "6     Horror  \n",
       "7  Animation  \n",
       "8    Foreign  \n",
       "9      Drama  "
      ]
     },
     "execution_count": 49,
     "metadata": {},
     "output_type": "execute_result"
    }
   ],
   "source": [
    "# get the data\n",
    "connection_string = 'mysql+pymysql://root:' + password + '@localhost/sakila'\n",
    "engine = create_engine(connection_string)\n",
    "query = query = '''SELECT  r.rental_date, p.amount, f.rental_duration, f.rental_rate, f.length, f.rating, c.name AS \"category\"\n",
    "FROM sakila.rental r\n",
    "LEFT JOIN sakila.inventory i USING (inventory_id)\n",
    "LEFT JOIN sakila.film f USING (film_id)\n",
    "LEFT JOIN sakila.payment p USING (rental_id)\n",
    "LEFT JOIN sakila.film_category fc USING (film_id)\n",
    "LEFT JOIN sakila.category c USING (category_id)\n",
    "WHERE left(r.rental_date,4)=\"2005\";'''\n",
    "\n",
    "data = pd.read_sql_query(query, engine)\n",
    "data.head(10)"
   ]
  },
  {
   "cell_type": "code",
   "execution_count": 106,
   "metadata": {
    "id": "0pBKmkFbmyre"
   },
   "outputs": [
    {
     "data": {
      "text/plain": [
       "(15862, 8)"
      ]
     },
     "execution_count": 106,
     "metadata": {},
     "output_type": "execute_result"
    }
   ],
   "source": [
    "data.shape"
   ]
  },
  {
   "cell_type": "code",
   "execution_count": 107,
   "metadata": {
    "id": "FgLik82qmyrf"
   },
   "outputs": [
    {
     "data": {
      "text/html": [
       "<div>\n",
       "<style scoped>\n",
       "    .dataframe tbody tr th:only-of-type {\n",
       "        vertical-align: middle;\n",
       "    }\n",
       "\n",
       "    .dataframe tbody tr th {\n",
       "        vertical-align: top;\n",
       "    }\n",
       "\n",
       "    .dataframe thead th {\n",
       "        text-align: right;\n",
       "    }\n",
       "</style>\n",
       "<table border=\"1\" class=\"dataframe\">\n",
       "  <thead>\n",
       "    <tr style=\"text-align: right;\">\n",
       "      <th></th>\n",
       "      <th>rental_date</th>\n",
       "      <th>amount</th>\n",
       "      <th>rental_duration</th>\n",
       "      <th>rental_rate</th>\n",
       "      <th>length</th>\n",
       "      <th>rating</th>\n",
       "      <th>category</th>\n",
       "      <th>rental_status</th>\n",
       "    </tr>\n",
       "  </thead>\n",
       "  <tbody>\n",
       "    <tr>\n",
       "      <th>0</th>\n",
       "      <td>2005-05-24 22:53:30</td>\n",
       "      <td>2.99</td>\n",
       "      <td>7</td>\n",
       "      <td>2.99</td>\n",
       "      <td>148</td>\n",
       "      <td>G</td>\n",
       "      <td>Family</td>\n",
       "      <td>rented</td>\n",
       "    </tr>\n",
       "    <tr>\n",
       "      <th>1</th>\n",
       "      <td>2005-05-24 22:54:33</td>\n",
       "      <td>2.99</td>\n",
       "      <td>7</td>\n",
       "      <td>2.99</td>\n",
       "      <td>126</td>\n",
       "      <td>R</td>\n",
       "      <td>Music</td>\n",
       "      <td>rented</td>\n",
       "    </tr>\n",
       "    <tr>\n",
       "      <th>2</th>\n",
       "      <td>2005-05-24 23:03:39</td>\n",
       "      <td>3.99</td>\n",
       "      <td>7</td>\n",
       "      <td>2.99</td>\n",
       "      <td>156</td>\n",
       "      <td>G</td>\n",
       "      <td>Children</td>\n",
       "      <td>rented</td>\n",
       "    </tr>\n",
       "    <tr>\n",
       "      <th>3</th>\n",
       "      <td>2005-05-24 23:04:41</td>\n",
       "      <td>4.99</td>\n",
       "      <td>6</td>\n",
       "      <td>0.99</td>\n",
       "      <td>181</td>\n",
       "      <td>R</td>\n",
       "      <td>Horror</td>\n",
       "      <td>rented</td>\n",
       "    </tr>\n",
       "    <tr>\n",
       "      <th>4</th>\n",
       "      <td>2005-05-24 23:05:21</td>\n",
       "      <td>6.99</td>\n",
       "      <td>5</td>\n",
       "      <td>2.99</td>\n",
       "      <td>84</td>\n",
       "      <td>NC-17</td>\n",
       "      <td>Children</td>\n",
       "      <td>rented</td>\n",
       "    </tr>\n",
       "    <tr>\n",
       "      <th>...</th>\n",
       "      <td>...</td>\n",
       "      <td>...</td>\n",
       "      <td>...</td>\n",
       "      <td>...</td>\n",
       "      <td>...</td>\n",
       "      <td>...</td>\n",
       "      <td>...</td>\n",
       "      <td>...</td>\n",
       "    </tr>\n",
       "    <tr>\n",
       "      <th>15857</th>\n",
       "      <td>2005-08-23 22:25:26</td>\n",
       "      <td>0.99</td>\n",
       "      <td>5</td>\n",
       "      <td>0.99</td>\n",
       "      <td>67</td>\n",
       "      <td>R</td>\n",
       "      <td>Children</td>\n",
       "      <td>not rented</td>\n",
       "    </tr>\n",
       "    <tr>\n",
       "      <th>15858</th>\n",
       "      <td>2005-08-23 22:26:47</td>\n",
       "      <td>0.99</td>\n",
       "      <td>6</td>\n",
       "      <td>0.99</td>\n",
       "      <td>78</td>\n",
       "      <td>PG-13</td>\n",
       "      <td>Classics</td>\n",
       "      <td>not rented</td>\n",
       "    </tr>\n",
       "    <tr>\n",
       "      <th>15859</th>\n",
       "      <td>2005-08-23 22:42:48</td>\n",
       "      <td>0.99</td>\n",
       "      <td>4</td>\n",
       "      <td>0.99</td>\n",
       "      <td>122</td>\n",
       "      <td>R</td>\n",
       "      <td>Foreign</td>\n",
       "      <td>not rented</td>\n",
       "    </tr>\n",
       "    <tr>\n",
       "      <th>15860</th>\n",
       "      <td>2005-08-23 22:43:07</td>\n",
       "      <td>8.99</td>\n",
       "      <td>4</td>\n",
       "      <td>4.99</td>\n",
       "      <td>151</td>\n",
       "      <td>PG-13</td>\n",
       "      <td>Drama</td>\n",
       "      <td>not rented</td>\n",
       "    </tr>\n",
       "    <tr>\n",
       "      <th>15861</th>\n",
       "      <td>2005-08-23 22:50:12</td>\n",
       "      <td>3.99</td>\n",
       "      <td>4</td>\n",
       "      <td>0.99</td>\n",
       "      <td>105</td>\n",
       "      <td>G</td>\n",
       "      <td>Drama</td>\n",
       "      <td>not rented</td>\n",
       "    </tr>\n",
       "  </tbody>\n",
       "</table>\n",
       "<p>15862 rows × 8 columns</p>\n",
       "</div>"
      ],
      "text/plain": [
       "              rental_date  amount  rental_duration  rental_rate  length  \\\n",
       "0     2005-05-24 22:53:30    2.99                7         2.99     148   \n",
       "1     2005-05-24 22:54:33    2.99                7         2.99     126   \n",
       "2     2005-05-24 23:03:39    3.99                7         2.99     156   \n",
       "3     2005-05-24 23:04:41    4.99                6         0.99     181   \n",
       "4     2005-05-24 23:05:21    6.99                5         2.99      84   \n",
       "...                   ...     ...              ...          ...     ...   \n",
       "15857 2005-08-23 22:25:26    0.99                5         0.99      67   \n",
       "15858 2005-08-23 22:26:47    0.99                6         0.99      78   \n",
       "15859 2005-08-23 22:42:48    0.99                4         0.99     122   \n",
       "15860 2005-08-23 22:43:07    8.99                4         4.99     151   \n",
       "15861 2005-08-23 22:50:12    3.99                4         0.99     105   \n",
       "\n",
       "      rating  category rental_status  \n",
       "0          G    Family        rented  \n",
       "1          R     Music        rented  \n",
       "2          G  Children        rented  \n",
       "3          R    Horror        rented  \n",
       "4      NC-17  Children        rented  \n",
       "...      ...       ...           ...  \n",
       "15857      R  Children    not rented  \n",
       "15858  PG-13  Classics    not rented  \n",
       "15859      R   Foreign    not rented  \n",
       "15860  PG-13     Drama    not rented  \n",
       "15861      G     Drama    not rented  \n",
       "\n",
       "[15862 rows x 8 columns]"
      ]
     },
     "execution_count": 107,
     "metadata": {},
     "output_type": "execute_result"
    }
   ],
   "source": [
    "def check_rental(text):\n",
    "        if '2005-05' in str(text):\n",
    "            return 'rented'\n",
    "        else:\n",
    "            return 'not rented'\n",
    "\n",
    "data[\"rental_status\"] = data['rental_date'].apply(lambda x: check_rental(x))\n",
    "data"
   ]
  },
  {
   "cell_type": "code",
   "execution_count": 108,
   "metadata": {
    "id": "rn9906pcmyrf",
    "scrolled": true
   },
   "outputs": [
    {
     "data": {
      "text/plain": [
       "(15862, 8)"
      ]
     },
     "execution_count": 108,
     "metadata": {},
     "output_type": "execute_result"
    }
   ],
   "source": [
    "data.shape"
   ]
  },
  {
   "cell_type": "code",
   "execution_count": 109,
   "metadata": {
    "id": "d8F8oOS9myrf"
   },
   "outputs": [
    {
     "data": {
      "text/plain": [
       "rental_date        datetime64[ns]\n",
       "amount                    float64\n",
       "rental_duration             int64\n",
       "rental_rate               float64\n",
       "length                      int64\n",
       "rating                     object\n",
       "category                   object\n",
       "rental_status              object\n",
       "dtype: object"
      ]
     },
     "execution_count": 109,
     "metadata": {},
     "output_type": "execute_result"
    }
   ],
   "source": [
    "\n",
    "data.dtypes"
   ]
  },
  {
   "cell_type": "code",
   "execution_count": 110,
   "metadata": {
    "id": "_Hpcxl_7myrf"
   },
   "outputs": [
    {
     "data": {
      "text/plain": [
       "rental_date        0\n",
       "amount             0\n",
       "rental_duration    0\n",
       "rental_rate        0\n",
       "length             0\n",
       "rating             0\n",
       "category           0\n",
       "rental_status      0\n",
       "dtype: int64"
      ]
     },
     "execution_count": 110,
     "metadata": {},
     "output_type": "execute_result"
    }
   ],
   "source": [
    "data.isna().sum()"
   ]
  },
  {
   "cell_type": "code",
   "execution_count": 111,
   "metadata": {
    "id": "9Qk7Bce5myrh",
    "scrolled": true
   },
   "outputs": [
    {
     "data": {
      "text/html": [
       "<div>\n",
       "<style scoped>\n",
       "    .dataframe tbody tr th:only-of-type {\n",
       "        vertical-align: middle;\n",
       "    }\n",
       "\n",
       "    .dataframe tbody tr th {\n",
       "        vertical-align: top;\n",
       "    }\n",
       "\n",
       "    .dataframe thead th {\n",
       "        text-align: right;\n",
       "    }\n",
       "</style>\n",
       "<table border=\"1\" class=\"dataframe\">\n",
       "  <thead>\n",
       "    <tr style=\"text-align: right;\">\n",
       "      <th></th>\n",
       "      <th>amount</th>\n",
       "      <th>rental_duration</th>\n",
       "      <th>rental_rate</th>\n",
       "      <th>length</th>\n",
       "    </tr>\n",
       "  </thead>\n",
       "  <tbody>\n",
       "    <tr>\n",
       "      <th>count</th>\n",
       "      <td>15862.000000</td>\n",
       "      <td>15862.000000</td>\n",
       "      <td>15862.000000</td>\n",
       "      <td>15862.000000</td>\n",
       "    </tr>\n",
       "    <tr>\n",
       "      <th>mean</th>\n",
       "      <td>4.217147</td>\n",
       "      <td>4.937208</td>\n",
       "      <td>2.943978</td>\n",
       "      <td>114.992750</td>\n",
       "    </tr>\n",
       "    <tr>\n",
       "      <th>std</th>\n",
       "      <td>2.360309</td>\n",
       "      <td>1.401618</td>\n",
       "      <td>1.649787</td>\n",
       "      <td>40.114111</td>\n",
       "    </tr>\n",
       "    <tr>\n",
       "      <th>min</th>\n",
       "      <td>0.990000</td>\n",
       "      <td>3.000000</td>\n",
       "      <td>0.990000</td>\n",
       "      <td>46.000000</td>\n",
       "    </tr>\n",
       "    <tr>\n",
       "      <th>25%</th>\n",
       "      <td>2.990000</td>\n",
       "      <td>4.000000</td>\n",
       "      <td>0.990000</td>\n",
       "      <td>81.000000</td>\n",
       "    </tr>\n",
       "    <tr>\n",
       "      <th>50%</th>\n",
       "      <td>3.990000</td>\n",
       "      <td>5.000000</td>\n",
       "      <td>2.990000</td>\n",
       "      <td>114.000000</td>\n",
       "    </tr>\n",
       "    <tr>\n",
       "      <th>75%</th>\n",
       "      <td>4.990000</td>\n",
       "      <td>6.000000</td>\n",
       "      <td>4.990000</td>\n",
       "      <td>148.000000</td>\n",
       "    </tr>\n",
       "    <tr>\n",
       "      <th>max</th>\n",
       "      <td>11.990000</td>\n",
       "      <td>7.000000</td>\n",
       "      <td>4.990000</td>\n",
       "      <td>185.000000</td>\n",
       "    </tr>\n",
       "  </tbody>\n",
       "</table>\n",
       "</div>"
      ],
      "text/plain": [
       "             amount  rental_duration   rental_rate        length\n",
       "count  15862.000000     15862.000000  15862.000000  15862.000000\n",
       "mean       4.217147         4.937208      2.943978    114.992750\n",
       "std        2.360309         1.401618      1.649787     40.114111\n",
       "min        0.990000         3.000000      0.990000     46.000000\n",
       "25%        2.990000         4.000000      0.990000     81.000000\n",
       "50%        3.990000         5.000000      2.990000    114.000000\n",
       "75%        4.990000         6.000000      4.990000    148.000000\n",
       "max       11.990000         7.000000      4.990000    185.000000"
      ]
     },
     "execution_count": 111,
     "metadata": {},
     "output_type": "execute_result"
    }
   ],
   "source": [
    "data.describe()"
   ]
  },
  {
   "cell_type": "code",
   "execution_count": 112,
   "metadata": {},
   "outputs": [
    {
     "data": {
      "text/plain": [
       "<AxesSubplot:xlabel='rental_status', ylabel='count'>"
      ]
     },
     "execution_count": 112,
     "metadata": {},
     "output_type": "execute_result"
    },
    {
     "data": {
      "image/png": "[encoded data removed]",
      "text/plain": [
       "<Figure size 432x288 with 1 Axes>"
      ]
     },
     "metadata": {
      "needs_background": "light"
     },
     "output_type": "display_data"
    }
   ],
   "source": [
    "import seaborn as sns\n",
    "%matplotlib inline\n",
    "sns.countplot(x=data.rental_status)"
   ]
  },
  {
   "cell_type": "code",
   "execution_count": 113,
   "metadata": {
    "scrolled": true
   },
   "outputs": [
    {
     "data": {
      "image/png": "[encoded data removed]",
      "text/plain": [
       "<Figure size 720x576 with 2 Axes>"
      ]
     },
     "metadata": {
      "needs_background": "light"
     },
     "output_type": "display_data"
    }
   ],
   "source": [
    "import matplotlib.pyplot as plt\n",
    "corr_matrix=data.corr(method='pearson')  # default\n",
    "fig, ax = plt.subplots(figsize=(10, 8))\n",
    "ax = sns.heatmap(corr_matrix, annot=True)\n",
    "plt.show()"
   ]
  },
  {
   "cell_type": "code",
   "execution_count": 114,
   "metadata": {},
   "outputs": [
    {
     "data": {
      "image/png": "[encoded data removed]",
      "text/plain": [
       "<Figure size 360x360 with 1 Axes>"
      ]
     },
     "metadata": {
      "needs_background": "light"
     },
     "output_type": "display_data"
    },
    {
     "data": {
      "image/png": "[encoded data removed]",
      "text/plain": [
       "<Figure size 360x360 with 1 Axes>"
      ]
     },
     "metadata": {
      "needs_background": "light"
     },
     "output_type": "display_data"
    },
    {
     "data": {
      "image/png": "[encoded data removed]",
      "text/plain": [
       "<Figure size 360x360 with 1 Axes>"
      ]
     },
     "metadata": {
      "needs_background": "light"
     },
     "output_type": "display_data"
    },
    {
     "data": {
      "image/png": "[encoded data removed]",
      "text/plain": [
       "<Figure size 360x360 with 1 Axes>"
      ]
     },
     "metadata": {
      "needs_background": "light"
     },
     "output_type": "display_data"
    }
   ],
   "source": [
    "\n",
    "numerical =data.select_dtypes(include = np.number)\n",
    "for col in numerical.columns:\n",
    "    sns.displot(numerical[col],kde = True)\n",
    "    plt.show()"
   ]
  },
  {
   "cell_type": "code",
   "execution_count": 115,
   "metadata": {},
   "outputs": [],
   "source": [
    "# Need to X-y-split AND train-test-split BEFORE I apply transformations, \n",
    "# then train transformation on training set only\n",
    "y = data['rental_status']\n",
    "X = data.drop('rental_status', axis=1)\n",
    "from sklearn.model_selection import train_test_split\n",
    "X_train, X_test, y_train, y_test = train_test_split(X, y, test_size=0.2, random_state=1337)"
   ]
  },
  {
   "cell_type": "code",
   "execution_count": 116,
   "metadata": {
    "id": "j83qrxAG_wo6"
   },
   "outputs": [],
   "source": [
    "import numpy as np\n",
    "from sklearn.preprocessing import MinMaxScaler\n",
    "# from sklearn.preprocessing import StandardScaler\n",
    "\n",
    "X_train_num = X_train.select_dtypes(include = np.number)\n",
    "\n",
    "# Scaling data\n",
    "transformer = MinMaxScaler().fit(X_train_num) # need to keep transformer\n",
    "X_train_normalized = transformer.transform(X_train_num)\n",
    "X_train_norm = pd.DataFrame(X_train_normalized, columns = X_train_num.columns)"
   ]
  },
  {
   "cell_type": "code",
   "execution_count": 117,
   "metadata": {
    "id": "CL6F5Lxh_wo7"
   },
   "outputs": [
    {
     "data": {
      "text/html": [
       "<div>\n",
       "<style scoped>\n",
       "    .dataframe tbody tr th:only-of-type {\n",
       "        vertical-align: middle;\n",
       "    }\n",
       "\n",
       "    .dataframe tbody tr th {\n",
       "        vertical-align: top;\n",
       "    }\n",
       "\n",
       "    .dataframe thead th {\n",
       "        text-align: right;\n",
       "    }\n",
       "</style>\n",
       "<table border=\"1\" class=\"dataframe\">\n",
       "  <thead>\n",
       "    <tr style=\"text-align: right;\">\n",
       "      <th></th>\n",
       "      <th>amount</th>\n",
       "      <th>rental_duration</th>\n",
       "      <th>rental_rate</th>\n",
       "      <th>length</th>\n",
       "    </tr>\n",
       "  </thead>\n",
       "  <tbody>\n",
       "    <tr>\n",
       "      <th>0</th>\n",
       "      <td>0.181818</td>\n",
       "      <td>0.00</td>\n",
       "      <td>0.5</td>\n",
       "      <td>0.007194</td>\n",
       "    </tr>\n",
       "    <tr>\n",
       "      <th>1</th>\n",
       "      <td>0.363636</td>\n",
       "      <td>1.00</td>\n",
       "      <td>1.0</td>\n",
       "      <td>0.244604</td>\n",
       "    </tr>\n",
       "    <tr>\n",
       "      <th>2</th>\n",
       "      <td>0.272727</td>\n",
       "      <td>1.00</td>\n",
       "      <td>0.5</td>\n",
       "      <td>0.122302</td>\n",
       "    </tr>\n",
       "    <tr>\n",
       "      <th>3</th>\n",
       "      <td>0.181818</td>\n",
       "      <td>0.25</td>\n",
       "      <td>0.5</td>\n",
       "      <td>0.151079</td>\n",
       "    </tr>\n",
       "    <tr>\n",
       "      <th>4</th>\n",
       "      <td>0.454545</td>\n",
       "      <td>0.00</td>\n",
       "      <td>0.0</td>\n",
       "      <td>0.194245</td>\n",
       "    </tr>\n",
       "  </tbody>\n",
       "</table>\n",
       "</div>"
      ],
      "text/plain": [
       "     amount  rental_duration  rental_rate    length\n",
       "0  0.181818             0.00          0.5  0.007194\n",
       "1  0.363636             1.00          1.0  0.244604\n",
       "2  0.272727             1.00          0.5  0.122302\n",
       "3  0.181818             0.25          0.5  0.151079\n",
       "4  0.454545             0.00          0.0  0.194245"
      ]
     },
     "execution_count": 117,
     "metadata": {},
     "output_type": "execute_result"
    }
   ],
   "source": [
    "X_train_norm.head()"
   ]
  },
  {
   "cell_type": "code",
   "execution_count": 118,
   "metadata": {
    "id": "q3zKkBWymyrm"
   },
   "outputs": [
    {
     "data": {
      "text/html": [
       "<div>\n",
       "<style scoped>\n",
       "    .dataframe tbody tr th:only-of-type {\n",
       "        vertical-align: middle;\n",
       "    }\n",
       "\n",
       "    .dataframe tbody tr th {\n",
       "        vertical-align: top;\n",
       "    }\n",
       "\n",
       "    .dataframe thead th {\n",
       "        text-align: right;\n",
       "    }\n",
       "</style>\n",
       "<table border=\"1\" class=\"dataframe\">\n",
       "  <thead>\n",
       "    <tr style=\"text-align: right;\">\n",
       "      <th></th>\n",
       "      <th>rating_NC-17</th>\n",
       "      <th>rating_PG</th>\n",
       "      <th>rating_PG-13</th>\n",
       "      <th>rating_R</th>\n",
       "      <th>category_Animation</th>\n",
       "      <th>category_Children</th>\n",
       "      <th>category_Classics</th>\n",
       "      <th>category_Comedy</th>\n",
       "      <th>category_Documentary</th>\n",
       "      <th>category_Drama</th>\n",
       "      <th>category_Family</th>\n",
       "      <th>category_Foreign</th>\n",
       "      <th>category_Games</th>\n",
       "      <th>category_Horror</th>\n",
       "      <th>category_Music</th>\n",
       "      <th>category_New</th>\n",
       "      <th>category_Sci-Fi</th>\n",
       "      <th>category_Sports</th>\n",
       "      <th>category_Travel</th>\n",
       "    </tr>\n",
       "  </thead>\n",
       "  <tbody>\n",
       "    <tr>\n",
       "      <th>7563</th>\n",
       "      <td>0</td>\n",
       "      <td>0</td>\n",
       "      <td>0</td>\n",
       "      <td>0</td>\n",
       "      <td>0</td>\n",
       "      <td>0</td>\n",
       "      <td>0</td>\n",
       "      <td>0</td>\n",
       "      <td>0</td>\n",
       "      <td>0</td>\n",
       "      <td>0</td>\n",
       "      <td>0</td>\n",
       "      <td>0</td>\n",
       "      <td>0</td>\n",
       "      <td>0</td>\n",
       "      <td>0</td>\n",
       "      <td>0</td>\n",
       "      <td>1</td>\n",
       "      <td>0</td>\n",
       "    </tr>\n",
       "    <tr>\n",
       "      <th>9589</th>\n",
       "      <td>0</td>\n",
       "      <td>0</td>\n",
       "      <td>0</td>\n",
       "      <td>0</td>\n",
       "      <td>0</td>\n",
       "      <td>0</td>\n",
       "      <td>0</td>\n",
       "      <td>0</td>\n",
       "      <td>0</td>\n",
       "      <td>0</td>\n",
       "      <td>0</td>\n",
       "      <td>1</td>\n",
       "      <td>0</td>\n",
       "      <td>0</td>\n",
       "      <td>0</td>\n",
       "      <td>0</td>\n",
       "      <td>0</td>\n",
       "      <td>0</td>\n",
       "      <td>0</td>\n",
       "    </tr>\n",
       "    <tr>\n",
       "      <th>6140</th>\n",
       "      <td>0</td>\n",
       "      <td>0</td>\n",
       "      <td>0</td>\n",
       "      <td>1</td>\n",
       "      <td>0</td>\n",
       "      <td>0</td>\n",
       "      <td>0</td>\n",
       "      <td>0</td>\n",
       "      <td>0</td>\n",
       "      <td>0</td>\n",
       "      <td>1</td>\n",
       "      <td>0</td>\n",
       "      <td>0</td>\n",
       "      <td>0</td>\n",
       "      <td>0</td>\n",
       "      <td>0</td>\n",
       "      <td>0</td>\n",
       "      <td>0</td>\n",
       "      <td>0</td>\n",
       "    </tr>\n",
       "    <tr>\n",
       "      <th>6911</th>\n",
       "      <td>0</td>\n",
       "      <td>1</td>\n",
       "      <td>0</td>\n",
       "      <td>0</td>\n",
       "      <td>0</td>\n",
       "      <td>0</td>\n",
       "      <td>0</td>\n",
       "      <td>0</td>\n",
       "      <td>1</td>\n",
       "      <td>0</td>\n",
       "      <td>0</td>\n",
       "      <td>0</td>\n",
       "      <td>0</td>\n",
       "      <td>0</td>\n",
       "      <td>0</td>\n",
       "      <td>0</td>\n",
       "      <td>0</td>\n",
       "      <td>0</td>\n",
       "      <td>0</td>\n",
       "    </tr>\n",
       "    <tr>\n",
       "      <th>2596</th>\n",
       "      <td>0</td>\n",
       "      <td>0</td>\n",
       "      <td>0</td>\n",
       "      <td>1</td>\n",
       "      <td>0</td>\n",
       "      <td>0</td>\n",
       "      <td>0</td>\n",
       "      <td>0</td>\n",
       "      <td>1</td>\n",
       "      <td>0</td>\n",
       "      <td>0</td>\n",
       "      <td>0</td>\n",
       "      <td>0</td>\n",
       "      <td>0</td>\n",
       "      <td>0</td>\n",
       "      <td>0</td>\n",
       "      <td>0</td>\n",
       "      <td>0</td>\n",
       "      <td>0</td>\n",
       "    </tr>\n",
       "  </tbody>\n",
       "</table>\n",
       "</div>"
      ],
      "text/plain": [
       "      rating_NC-17  rating_PG  rating_PG-13  rating_R  category_Animation  \\\n",
       "7563             0          0             0         0                   0   \n",
       "9589             0          0             0         0                   0   \n",
       "6140             0          0             0         1                   0   \n",
       "6911             0          1             0         0                   0   \n",
       "2596             0          0             0         1                   0   \n",
       "\n",
       "      category_Children  category_Classics  category_Comedy  \\\n",
       "7563                  0                  0                0   \n",
       "9589                  0                  0                0   \n",
       "6140                  0                  0                0   \n",
       "6911                  0                  0                0   \n",
       "2596                  0                  0                0   \n",
       "\n",
       "      category_Documentary  category_Drama  category_Family  category_Foreign  \\\n",
       "7563                     0               0                0                 0   \n",
       "9589                     0               0                0                 1   \n",
       "6140                     0               0                1                 0   \n",
       "6911                     1               0                0                 0   \n",
       "2596                     1               0                0                 0   \n",
       "\n",
       "      category_Games  category_Horror  category_Music  category_New  \\\n",
       "7563               0                0               0             0   \n",
       "9589               0                0               0             0   \n",
       "6140               0                0               0             0   \n",
       "6911               0                0               0             0   \n",
       "2596               0                0               0             0   \n",
       "\n",
       "      category_Sci-Fi  category_Sports  category_Travel  \n",
       "7563                0                1                0  \n",
       "9589                0                0                0  \n",
       "6140                0                0                0  \n",
       "6911                0                0                0  \n",
       "2596                0                0                0  "
      ]
     },
     "execution_count": 118,
     "metadata": {},
     "output_type": "execute_result"
    }
   ],
   "source": [
    "X_train_categorical = X_train.select_dtypes(include = object)\n",
    "X_train_cat = pd.get_dummies(X_train_categorical, \n",
    "                             columns= X_train_categorical.columns,\n",
    "                             drop_first=True)\n",
    "X_train_cat.head()"
   ]
  },
  {
   "cell_type": "code",
   "execution_count": 119,
   "metadata": {
    "id": "S0htv5PKmyrn"
   },
   "outputs": [],
   "source": [
    "# build X_train and y_train\n",
    "# remember: y = data['status'], y_train selected in train_test_split\n",
    "X_train_transformed = np.concatenate([X_train_norm, X_train_cat], axis=1)"
   ]
  },
  {
   "cell_type": "code",
   "execution_count": 120,
   "metadata": {
    "id": "1E8DiZc8myro"
   },
   "outputs": [],
   "source": [
    "from sklearn.linear_model import LogisticRegression\n",
    "classification = LogisticRegression(random_state=0, solver='lbfgs',\n",
    "                  multi_class='multinomial').fit(X_train_transformed, y_train)"
   ]
  },
  {
   "cell_type": "code",
   "execution_count": 121,
   "metadata": {
    "id": "eyAugyQomyro"
   },
   "outputs": [],
   "source": [
    "classification = LogisticRegression(random_state=0, solver='saga',\n",
    "                  multi_class='multinomial').fit(X_train_transformed, y_train)"
   ]
  },
  {
   "cell_type": "code",
   "execution_count": 122,
   "metadata": {
    "id": "f7lYNUxe_wo_"
   },
   "outputs": [],
   "source": [
    "# for numericals\n",
    "X_test_num = X_test.select_dtypes(include = np.number)\n",
    "\n",
    "# Scaling data\n",
    "# we use the transformer that was trained on the training data\n",
    "X_test_normalized = transformer.transform(X_test_num)\n",
    "X_test_norm = pd.DataFrame(X_test_normalized)"
   ]
  },
  {
   "cell_type": "code",
   "execution_count": 123,
   "metadata": {
    "id": "JcnnAyXa_wo_"
   },
   "outputs": [
    {
     "data": {
      "text/plain": [
       "[('rating_NC-17', 'rating_NC-17'),\n",
       " ('rating_PG', 'rating_PG'),\n",
       " ('rating_PG-13', 'rating_PG-13'),\n",
       " ('rating_R', 'rating_R'),\n",
       " ('category_Animation', 'category_Animation'),\n",
       " ('category_Children', 'category_Children'),\n",
       " ('category_Classics', 'category_Classics'),\n",
       " ('category_Comedy', 'category_Comedy'),\n",
       " ('category_Documentary', 'category_Documentary'),\n",
       " ('category_Drama', 'category_Drama'),\n",
       " ('category_Family', 'category_Family'),\n",
       " ('category_Foreign', 'category_Foreign'),\n",
       " ('category_Games', 'category_Games'),\n",
       " ('category_Horror', 'category_Horror'),\n",
       " ('category_Music', 'category_Music'),\n",
       " ('category_New', 'category_New'),\n",
       " ('category_Sci-Fi', 'category_Sci-Fi'),\n",
       " ('category_Sports', 'category_Sports'),\n",
       " ('category_Travel', 'category_Travel')]"
      ]
     },
     "metadata": {},
     "output_type": "display_data"
    }
   ],
   "source": [
    "# for categoricals\n",
    "X_test_categorical = X_test.select_dtypes(include = object)\n",
    "X_test_cat = pd.get_dummies(X_test_categorical, \n",
    "                            columns=X_test_categorical.columns,\n",
    "                            drop_first=True)\n",
    "# verify that dummies columns are in the same order and that the same column was dropped\n",
    "display(list(zip(list(X_train_cat.columns),list(X_test_cat.columns))))\n",
    "# not needed if you treat each dataframe with one_hot_encoder and save the encode (and the column names)\n",
    "\n",
    "# X_test_cat.head()"
   ]
  },
  {
   "cell_type": "code",
   "execution_count": 124,
   "metadata": {
    "id": "zUMDEmnK_wpA"
   },
   "outputs": [],
   "source": [
    "X_test_transformed = np.concatenate([X_test_norm, X_test_cat], axis=1)"
   ]
  },
  {
   "cell_type": "code",
   "execution_count": 125,
   "metadata": {
    "id": "YKsyJKmL_wpA"
   },
   "outputs": [
    {
     "data": {
      "text/plain": [
       "0.9271982351087299"
      ]
     },
     "execution_count": 125,
     "metadata": {},
     "output_type": "execute_result"
    }
   ],
   "source": [
    "# Now we can make predictions on the test set:\n",
    "predictions = classification.predict(X_test_transformed)\n",
    "classification.score(X_test_transformed, y_test)"
   ]
  },
  {
   "cell_type": "code",
   "execution_count": 126,
   "metadata": {
    "id": "nKXKIjcPmyro"
   },
   "outputs": [
    {
     "name": "stdout",
     "output_type": "stream",
     "text": [
      "not rented    2942\n",
      "rented         231\n",
      "Name: rental_status, dtype: int64\n"
     ]
    }
   ],
   "source": [
    "print(y_test.value_counts())"
   ]
  },
  {
   "cell_type": "code",
   "execution_count": 127,
   "metadata": {
    "id": "2fuNSGscmyro"
   },
   "outputs": [
    {
     "data": {
      "text/plain": [
       "not rented    3173\n",
       "dtype: int64"
      ]
     },
     "execution_count": 127,
     "metadata": {},
     "output_type": "execute_result"
    }
   ],
   "source": [
    "pd.Series(predictions).value_counts()\n",
    "# This shows that the disparity in the numbers are amplified by the model"
   ]
  },
  {
   "cell_type": "code",
   "execution_count": 128,
   "metadata": {
    "id": "_YhhzlfOmyrp"
   },
   "outputs": [
    {
     "data": {
      "text/plain": [
       "array([[2942,    0],\n",
       "       [ 231,    0]])"
      ]
     },
     "execution_count": 128,
     "metadata": {},
     "output_type": "execute_result"
    }
   ],
   "source": [
    "from sklearn.metrics import confusion_matrix\n",
    "confusion_matrix(y_test, predictions)"
   ]
  },
  {
   "cell_type": "code",
   "execution_count": 129,
   "metadata": {
    "id": "JwAsF1akmyrp"
   },
   "outputs": [],
   "source": [
    "# predicted | A | B | C | D |\n",
    "# --------------------------\n",
    "# actual  A | + |  |   |   |\n",
    "# --------------------------\n",
    "#         B |   | + |   |   |\n",
    "# --------------------------\n",
    "#         C |   |   | + |   |\n",
    "# --------------------------\n",
    "#         D |   |   |   | + |"
   ]
  },
  {
   "cell_type": "code",
   "execution_count": 130,
   "metadata": {
    "id": "salXbiJgmyrp"
   },
   "outputs": [
    {
     "data": {
      "text/plain": [
       "0.9268830759533564"
      ]
     },
     "execution_count": 130,
     "metadata": {},
     "output_type": "execute_result"
    }
   ],
   "source": [
    "# bonus: KNN classifier: look at nearest neighbours and use the majority to determine class\n",
    "from sklearn import neighbors\n",
    "clf = neighbors.KNeighborsClassifier(n_neighbors=5, weights='uniform')\n",
    "clf.fit(X_train_transformed, y_train)\n",
    "predictions_clf = clf.predict(X_test_transformed)\n",
    "clf.score(X_test_transformed, y_test)"
   ]
  },
  {
   "cell_type": "code",
   "execution_count": 131,
   "metadata": {
    "id": "g_mftgwJmyrp"
   },
   "outputs": [
    {
     "data": {
      "text/plain": [
       "array([[2941,    1],\n",
       "       [ 231,    0]])"
      ]
     },
     "execution_count": 131,
     "metadata": {},
     "output_type": "execute_result"
    }
   ],
   "source": [
    "confusion_matrix(y_test, predictions_clf)"
   ]
  },
  {
   "cell_type": "code",
   "execution_count": 132,
   "metadata": {
    "id": "3W0t-HHGmyrp"
   },
   "outputs": [
    {
     "data": {
      "text/plain": [
       "not rented    2942\n",
       "rented         231\n",
       "Name: rental_status, dtype: int64"
      ]
     },
     "execution_count": 132,
     "metadata": {},
     "output_type": "execute_result"
    }
   ],
   "source": [
    "pd.Series(y_test).value_counts()"
   ]
  },
  {
   "cell_type": "code",
   "execution_count": 133,
   "metadata": {
    "id": "SzHpesNAmyrp"
   },
   "outputs": [
    {
     "data": {
      "text/plain": [
       "not rented    3172\n",
       "rented           1\n",
       "dtype: int64"
      ]
     },
     "execution_count": 133,
     "metadata": {},
     "output_type": "execute_result"
    }
   ],
   "source": [
    "pd.Series(predictions_clf).value_counts()"
   ]
  },
  {
   "cell_type": "code",
   "execution_count": null,
   "metadata": {},
   "outputs": [],
   "source": []
  },
  {
   "cell_type": "code",
   "execution_count": null,
   "metadata": {
    "id": "QZeAzI8fmyrq"
   },
   "outputs": [],
   "source": []
  }
 ],
 "metadata": {
  "colab": {
   "collapsed_sections": [],
   "provenance": []
  },
  "kernelspec": {
   "display_name": "Python 3 (ipykernel)",
   "language": "python",
   "name": "python3"
  },
  "language_info": {
   "codemirror_mode": {
    "name": "ipython",
    "version": 3
   },
   "file_extension": ".py",
   "mimetype": "text/x-python",
   "name": "python",
   "nbconvert_exporter": "python",
   "pygments_lexer": "ipython3",
   "version": "3.9.12"
  }
 },
 "nbformat": 4,
 "nbformat_minor": 1
}
